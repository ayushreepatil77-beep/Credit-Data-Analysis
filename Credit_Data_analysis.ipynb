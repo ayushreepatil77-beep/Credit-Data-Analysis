# Credit Data Analysis - Beginner Project

# Step 1: Import Libraries
import pandas as pd
import matplotlib.pyplot as plt
import seaborn as sns

# Step 2: Load Dataset
# Download the dataset from: https://archive.ics.uci.edu/ml/datasets/default+of+credit+card+clients
df = pd.read_csv("credit_data.csv")  # make sure your CSV is in the same folder
df.head()  # display first 5 rows

# Step 3: Explore the Data
print("Dataset Info:")
print(df.info())
print("\nDataset Description:")
print(df.describe())

# Step 4: Simple Analysis
# Example 1: Age distribution
plt.figure(figsize=(8,5))
sns.histplot(df['AGE'], bins=20, kde=True)
plt.title("Age Distribution of Clients")
plt.xlabel("Age")
plt.ylabel("Count")
plt.show()

# Example 2: Credit Limit Distribution
plt.figure(figsize=(8,5))
sns.histplot(df['LIMIT_BAL'], bins=30, kde=True)
plt.title("Credit Limit Distribution")
plt.xlabel("Credit Limit")
plt.ylabel("Count")
plt.show()

# Example 3: Correlation Heatmap
plt.figure(figsize=(12,8))
sns.heatmap(df.corr(), annot=True, fmt=".2f", cmap="coolwarm")
plt.title("Feature Correlation Heatmap")
plt.show()

# Step 5: Basic Insights
# Count of default vs non-default
default_count = df['default.payment.next.month'].value_counts()
print("\nDefault Payment Counts:")
print(default_count)

# Simple observation
print("\nObservation Example:")
print(f"Percentage of clients who default: {round(default_count[1]/default_count.sum()*100, 2)}%")
